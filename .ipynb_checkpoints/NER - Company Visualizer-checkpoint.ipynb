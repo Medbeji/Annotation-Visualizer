{
 "cells": [
  {
   "cell_type": "code",
   "execution_count": 1,
   "metadata": {
    "ExecuteTime": {
     "end_time": "2020-03-25T13:15:14.407743Z",
     "start_time": "2020-03-25T13:15:14.397127Z"
    }
   },
   "outputs": [],
   "source": [
    "from IPython.display import Markdown, display\n",
    "import json\n",
    "import os "
   ]
  },
  {
   "cell_type": "code",
   "execution_count": 2,
   "metadata": {
    "ExecuteTime": {
     "end_time": "2020-03-25T13:15:14.431893Z",
     "start_time": "2020-03-25T13:15:14.421071Z"
    },
    "cell_style": "center"
   },
   "outputs": [],
   "source": [
    "def parse_response(id_document='', language='en'):\n",
    "    \"\"\" \n",
    "    parse QWAM responses\n",
    "    :path: to response file\n",
    "    \"\"\"\n",
    "    sub_folder = 'english_extract_' if language == 'en' else 'french_extract_'\n",
    "    folder = f'data/cacib_jsonfull_20200218/{language}/{sub_folder}{docID[0:8]}/'\n",
    "    response_file = folder + sub_folder + docID + '.json'\n",
    "    with open(response_file) as json_file:\n",
    "        data = json.load(json_file)\n",
    "    return data if type(data) == dict else None"
   ]
  },
  {
   "cell_type": "code",
   "execution_count": 3,
   "metadata": {
    "ExecuteTime": {
     "end_time": "2020-03-25T13:15:14.496875Z",
     "start_time": "2020-03-25T13:15:14.441181Z"
    }
   },
   "outputs": [],
   "source": [
    "def visualize_annotation(response=None, entity='Company', color='blue', span_type='color', verbose=False):\n",
    "    \"\"\"\n",
    "    Giving a QWAM response display Company annotations \n",
    "    :response: dict file containing QWAM response\n",
    "    :entity: the type of entity we want to display\n",
    "    :color: color of highlights\n",
    "    :span_type: if want to color to font of entities or highlight them\n",
    "    :verbose: display debuggong logs to show iterations\n",
    "    \"\"\"\n",
    "    sorted_companies = sorted(\n",
    "        response['annotations'][entity], key=lambda k: k['start'])\n",
    "    generated_html = response['text']\n",
    "    offset = 0\n",
    "    span_type = \"<span style='color:{}'>\".format(\n",
    "        color) if span_type == 'color' else \"<span style='background-color:{}'>\".format(color)\n",
    "    additional_offset = len(span_type + '</span>') \n",
    "    for i, _ in enumerate(sorted_companies):\n",
    "        company_name = _['string']\n",
    "        html = \"{}{}</span>\".format(span_type, company_name)\n",
    "        start_offset = _[\"start\"]+offset\n",
    "        end_offset = _[\"end\"]+offset\n",
    "        generated_html = generated_html[:start_offset] + \\\n",
    "            html + generated_html[end_offset:]\n",
    "        if verbose:\n",
    "            print('replacing \"{}\" at ({},{})'.format(\n",
    "                company_name, start_offset, end_offset))\n",
    "        offset += additional_offset\n",
    "\n",
    "    if verbose:\n",
    "        print('--------------------------------------------------')\n",
    "        print('This is the list of entities found in this documents with QWAM:')\n",
    "        for i, _ in enumerate(sorted_companies):\n",
    "            print(f'{i}- {_[\"string\"]}: ({_[\"start\"]},{_[\"end\"]})')\n",
    "        print('--------------------------------------------------')\n",
    "    display(Markdown(generated_html))"
   ]
  },
  {
   "cell_type": "code",
   "execution_count": 35,
   "metadata": {
    "ExecuteTime": {
     "end_time": "2020-03-25T14:18:55.586333Z",
     "start_time": "2020-03-25T14:18:55.549591Z"
    },
    "scrolled": false
   },
   "outputs": [
    {
     "name": "stdout",
     "output_type": "stream",
     "text": [
      "replacing \"Aéroports de Paris\" at (55,73)\n",
      "replacing \"CNP Assurances\" at (145,159)\n",
      "replacing \"Alliance Renault-Nissan\" at (237,260)\n",
      "replacing \"Essilor\" at (540,547)\n",
      "replacing \"Luxottica\" at (593,602)\n",
      "replacing \"Safran\" at (649,655)\n",
      "replacing \"Zodiac\" at (701,707)\n",
      "replacing \"Alstom\" at (756,762)\n",
      "replacing \"Covea\" at (1203,1208)\n",
      "replacing \"SCOR\" at (1258,1262)\n",
      "replacing \"Casino\" at (1322,1328)\n",
      "replacing \"Bouygues\" at (1377,1385)\n",
      "replacing \"SFR\" at (1434,1437)\n",
      "replacing \"BNP Paribas\" at (1737,1748)\n",
      "replacing \"Elior\" at (2095,2100)\n",
      "replacing \"Valeo\" at (2147,2152)\n",
      "replacing \"Nexans\" at (2199,2205)\n",
      "replacing \"Natixis\" at (2252,2259)\n",
      "replacing \"Bank of America-\" at (2459,2475)\n",
      "replacing \"Merrill Lynch\" at (2520,2533)\n",
      "replacing \"Lazard\" at (3035,3041)\n",
      "replacing \"LVMH\" at (3480,3484)\n",
      "replacing \"AXA\" at (3722,3725)\n",
      "replacing \"Sanofi\" at (3825,3831)\n",
      "replacing \"Bioverativ\" at (3877,3887)\n",
      "replacing \"Atos\" at (3934,3938)\n",
      "replacing \"Syntel\" at (3984,3990)\n",
      "replacing \"Servier\" at (4039,4046)\n",
      "replacing \"Shire\" at (4128,4133)\n",
      "replacing \"Altice\" at (4434,4440)\n",
      "replacing \"JP Morgan\" at (4555,4564)\n",
      "replacing \"Lazard\" at (4651,4657)\n",
      "replacing \"Morgan Stanley\" at (4706,4720)\n",
      "replacing \"Française des Jeux\" at (4912,4930)\n",
      "replacing \"La Banque Postale\" at (5085,5102)\n",
      "replacing \"Caisse des Dépôts\" at (5154,5171)\n",
      "replacing \"JP Morgan\" at (5721,5730)\n",
      "replacing \"BNP Paribas\" at (6300,6311)\n",
      "replacing \"Goldman Sachs\" at (6360,6373)\n",
      "replacing \"Aéroports de Paris\" at (6420,6438)\n",
      "replacing \"Morgan Stanley\" at (6486,6500)\n",
      "replacing \"Lazard\" at (6547,6553)\n",
      "replacing \"Société Générale\" at (6618,6634)\n",
      "replacing \"Nomura\" at (6683,6689)\n",
      "replacing \"BNP Paribas\" at (6765,6776)\n",
      "replacing \"FDJ\" at (6849,6852)\n",
      "replacing \"Lazard\" at (6936,6942)\n",
      "replacing \"BNP Paribas\" at (6998,7009)\n",
      "replacing \"Barclays\" at (7058,7066)\n",
      "replacing \"Morgan Stanley\" at (7113,7127)\n",
      "replacing \"BNP Paribas\" at (7174,7185)\n",
      "replacing \"Crédit Agricole\" at (7234,7249)\n",
      "replacing \"Elior\" at (7357,7362)\n",
      "--------------------------------------------------\n",
      "This is the list of entities found in this documents with QWAM:\n",
      "0- Aéroports de Paris: (55,73)\n",
      "1- CNP Assurances: (100,114)\n",
      "2- Alliance Renault-Nissan: (147,170)\n",
      "3- Essilor: (405,412)\n",
      "4- Luxottica: (413,422)\n",
      "5- Safran: (424,430)\n",
      "6- Zodiac: (431,437)\n",
      "7- Alstom: (441,447)\n",
      "8- Covea: (843,848)\n",
      "9- SCOR: (853,857)\n",
      "10- Casino: (872,878)\n",
      "11- Bouygues: (882,890)\n",
      "12- SFR: (894,897)\n",
      "13- BNP Paribas: (1152,1163)\n",
      "14- Elior: (1465,1470)\n",
      "15- Valeo: (1472,1477)\n",
      "16- Nexans: (1479,1485)\n",
      "17- Natixis: (1487,1494)\n",
      "18- Bank of America-: (1649,1665)\n",
      "19- Merrill Lynch: (1665,1678)\n",
      "20- Lazard: (2135,2141)\n",
      "21- LVMH: (2535,2539)\n",
      "22- AXA: (2732,2735)\n",
      "23- Sanofi: (2790,2796)\n",
      "24- Bioverativ: (2797,2807)\n",
      "25- Atos: (2809,2813)\n",
      "26- Syntel: (2814,2820)\n",
      "27- Servier: (2824,2831)\n",
      "28- Shire: (2868,2873)\n",
      "29- Altice: (3129,3135)\n",
      "30- JP Morgan: (3205,3214)\n",
      "31- Lazard: (3256,3262)\n",
      "32- Morgan Stanley: (3266,3280)\n",
      "33- Française des Jeux: (3427,3445)\n",
      "34- La Banque Postale: (3555,3572)\n",
      "35- Caisse des Dépôts: (3579,3596)\n",
      "36- JP Morgan: (4101,4110)\n",
      "37- BNP Paribas: (4635,4646)\n",
      "38- Goldman Sachs: (4650,4663)\n",
      "39- Aéroports de Paris: (4665,4683)\n",
      "40- Morgan Stanley: (4686,4700)\n",
      "41- Lazard: (4702,4708)\n",
      "42- Société Générale: (4728,4744)\n",
      "43- Nomura: (4748,4754)\n",
      "44- BNP Paribas: (4785,4796)\n",
      "45- FDJ: (4824,4827)\n",
      "46- Lazard: (4866,4872)\n",
      "47- BNP Paribas: (4883,4894)\n",
      "48- Barclays: (4898,4906)\n",
      "49- Morgan Stanley: (4908,4922)\n",
      "50- BNP Paribas: (4924,4935)\n",
      "51- Crédit Agricole: (4939,4954)\n",
      "52- Elior: (5017,5022)\n",
      "--------------------------------------------------\n"
     ]
    },
    {
     "data": {
      "text/markdown": [
       "Coup de froid sur le M&A en France. La privatisation d'<span style='background-color:yellow'>Aéroports de Paris</span>, les manoeuvres autour de <span style='background-color:yellow'>CNP Assurances</span>, des télécoms, ou l'avenir de l'<span style='background-color:yellow'>Alliance Renault-Nissan</span> ramèneront peut-être le centre de gravité des fusions-acquisitions vers la France en 2019. Ces douze derniers mois, les « deals » lancés par les groupes français n'ont en tout cas pas été du même acabit que ceux annoncés en 2017 avec <span style='background-color:yellow'>Essilor</span> <span style='background-color:yellow'>Luxottica</span>, <span style='background-color:yellow'>Safran</span> <span style='background-color:yellow'>Zodiac</span> ou <span style='background-color:yellow'>Alstom</span> Siemens, dans la foulée de l'élection d'Emmanuel Macron.  Les transactions ont baissé de 29 %, à 173 milliards de dollars, selon Refinitiv. Les cibles hexagonales ont attiré moitié moins d'offres qu'en 2017 (59 milliards de dollars). Les étrangers ont été moins actifs et les grandes manoeuvres françaises se sont effondrées (- 66 %, à 24 milliards de dollars), après les tentatives avortées de <span style='background-color:yellow'>Covea</span> sur <span style='background-color:yellow'>SCOR</span>, Carrefour et <span style='background-color:yellow'>Casino</span> ou <span style='background-color:yellow'>Bouygues</span> et <span style='background-color:yellow'>SFR</span>. « La France a connu un fort recul en relatif dans le M&A européen l'an dernier. Sa part de marché historique de 11 % a quasiment diminué de moitié à 6 %, souligne Sophie Javary, vice-présidente de la banque de financement et d'investissement en Emea de <span style='background-color:yellow'>BNP Paribas</span>. Elle est deux fois moins importante, donc, que l'Allemagne (14 % du marché européen du M&A) et est dépassée par l'Espagne. Or, dans le même temps, la dynamique des fusions en Europe a crû de plus de 30 %. »  Profit warnings  « Un certain nombre d'entreprises ont annoncé des 'profit warnings' [comme <span style='background-color:yellow'>Elior</span>, <span style='background-color:yellow'>Valeo</span>, <span style='background-color:yellow'>Nexans</span>, <span style='background-color:yellow'>Natixis</span> ou Asos, NDLR] et ont vu leur cours attaqué, notent Stéphane Courbon et Bernard Mourad, respectivement vice-chairman et patron de la banque d'affaires de <span style='background-color:yellow'>Bank of America-</span><span style='background-color:yellow'>Merrill Lynch</span> (BofA) en France. Si cette tendance se confirme en 2019, le marché des fusions-acquisitions restera tendu, notamment si les attentes de prix des vendeurs ne s'ajustent pas. Un certain nombre de transactions pourraient voir leur calendrier ralenti ou reporté. » « Différents facteurs, notamment les événements sociaux récents en France et les tensions sur les marchés financiers, invitent à la prudence, estime aussi Guillaume Molinier, associé-gérant chez <span style='background-color:yellow'>Lazard</span>. Et dans le même temps, ils incitent les entreprises françaises à se renforcer à l'international afin de pouvoir résister au retournement de cycle potentiel, grâce à des implantations très diversifiées. »  Ces opérations de la France vers l'étranger ont d'ailleurs concentré l'essentiel du M&A français en 2018 (85 milliards, - 27 %). Plus que l'Europe ou la Grande-Bretagne (à l'exception de <span style='background-color:yellow'>LVMH</span> sur Belmond et Vinci sur Gatwick), les industriels ont mis le cap sur les Etats-Unis. Un quart des acquisitions hors de nos frontières s'y sont finalisées. Plus grosse transaction de l'année, <span style='background-color:yellow'>AXA</span> s'est offert XL pour plus de 15 milliards de dollars, <span style='background-color:yellow'>Sanofi</span> <span style='background-color:yellow'>Bioverativ</span>, <span style='background-color:yellow'>Atos</span> <span style='background-color:yellow'>Syntel</span> et <span style='background-color:yellow'>Servier</span> la branche oncologie du laboratoire <span style='background-color:yellow'>Shire</span>.  Les Etats-Unis, premier partenaire  Près de la moitié des acquisitions étrangères en France ont également été menées par des groupes américains (14 milliards de dollars). Merck a mis la main sur Antelliq et KKR est entré au capital des tours télécoms d'<span style='background-color:yellow'>Altice</span>. Les banques américaines se sont donc imposées au classement annuel. <span style='background-color:yellow'>JP Morgan</span> a pris la tête du top français, suivi de <span style='background-color:yellow'>Lazard</span> et <span style='background-color:yellow'>Morgan Stanley</span>. En 2019, les cartes pourraient être rebattues. Les dossiers publics français annoncés et à même d'attirer des investisseurs internationaux (ADP, <span style='background-color:yellow'>Française des Jeux</span>, le laboratoire LFB) seront peut-être décisifs. Sans compter les grandes manoeuvres autour deCNP Assurances, <span style='background-color:yellow'>La Banque Postale</span> et la <span style='background-color:yellow'>Caisse des Dépôts</span>. Ces opérations supposeront de savoir naviguer dans l'environnement politique français. Dans le dossier ADP, le ministre de l'Economie, Bruno Le Maire, a déjà dit s'opposer à toute prise de contrôle par une puissance étrangère.  Effet « gilets jaunes »  On ne peut pas exclure que le mouvement des « gilets jaunes » modifie d'ailleurs la configuration de certaines de ces transactions. « L'attractivité française n'est pas affectée par les mouvements sociaux, assure Kyril Courboin, directeur général de <span style='background-color:yellow'>JP Morgan</span> en France. En revanche, ceux-ci pourraient influer sur la façon dont les grands dossiers publics sont menés. Si, par exemple, l'on passe de quatre à trois opérateurs télécoms, l'Etat pourra s'interroger de façon plus approfondie si un tel rapprochement présente un risque sur le pouvoir d'achat. De même, en cas de privatisation, l'Etat pourrait être particulièrement vigilant quant à l'impact d'une telle décision sur le coût des services. »  Les banques sont déjà dans les starting-blocks. BofA conseille l'Etat sur ADP : <span style='background-color:yellow'>BNP Paribas</span> et <span style='background-color:yellow'>Goldman Sachs</span>, <span style='background-color:yellow'>Aéroports de Paris</span> : <span style='background-color:yellow'>Morgan Stanley</span>, <span style='background-color:yellow'>Lazard</span>, Perella Weinberg, <span style='background-color:yellow'>Société Générale</span> et <span style='background-color:yellow'>Nomura</span> misent sur le candidat Vinci. <span style='background-color:yellow'>BNP Paribas</span> s'est aussi positionné sur <span style='background-color:yellow'>FDJ</span>. Le dossier CNP mobilise entre autres <span style='background-color:yellow'>Lazard</span>, Perella, <span style='background-color:yellow'>BNP Paribas</span> et <span style='background-color:yellow'>Barclays</span>. <span style='background-color:yellow'>Morgan Stanley</span>, <span style='background-color:yellow'>BNP Paribas</span> et <span style='background-color:yellow'>Crédit Agricole</span> s'activent également sur le pôle restauration de concession d'<span style='background-color:yellow'>Elior</span>. Avec l'arrivée de transfuges duBrexit, et si la dynamique des fusions se contracte de nouveau, la bataille promet d'être rude sur le marché considéré déjà comme le plus concurrentiel d'Europe.  A. D."
      ],
      "text/plain": [
       "<IPython.core.display.Markdown object>"
      ]
     },
     "metadata": {},
     "output_type": "display_data"
    }
   ],
   "source": [
    "language = 'fr'\n",
    "#---------- EN -------------------#\n",
    "#docID = 'AUTONW0020191024efah000e3'\n",
    "#docID = 'CIAINP0020191018efai00002'\n",
    "#docID = \"DATMON0020191022efah001sv\"\n",
    "#docID = \"AUTONW0020191019efai000gr\"\n",
    "#docID = \"ALGPS00020191018efai0005p\"\n",
    "#docID = \"APNTDP0020191017efai0000g\"\n",
    "#---------- FR --------------------#\n",
    "#docID = \"ECHOFR0020190101ef11000dy\"\n",
    "#docID = \"AFPFR00020190101ef11003ux\"\n",
    "#docID = \"CORSMAT020190102ef120001h\"\n",
    "#docID = \"ECHOS00020190102ef120002b\"\n",
    "#\n",
    "response = parse_response(id_document=docID, language=language)\n",
    "visualize_annotation(response, entity='Company', color='yellow', span_type='highlights', verbose=True)"
   ]
  },
  {
   "cell_type": "code",
   "execution_count": null,
   "metadata": {},
   "outputs": [],
   "source": []
  }
 ],
 "metadata": {
  "file_extension": ".py",
  "kernelspec": {
   "display_name": "Python 3",
   "language": "python",
   "name": "python3"
  },
  "language_info": {
   "codemirror_mode": {
    "name": "ipython",
    "version": 3
   },
   "file_extension": ".py",
   "mimetype": "text/x-python",
   "name": "python",
   "nbconvert_exporter": "python",
   "pygments_lexer": "ipython3",
   "version": "3.7.3"
  },
  "mimetype": "text/x-python",
  "name": "python",
  "npconvert_exporter": "python",
  "pygments_lexer": "ipython3",
  "toc": {
   "base_numbering": 1,
   "nav_menu": {},
   "number_sections": true,
   "sideBar": true,
   "skip_h1_title": false,
   "title_cell": "Table of Contents",
   "title_sidebar": "Contents",
   "toc_cell": false,
   "toc_position": {},
   "toc_section_display": true,
   "toc_window_display": false
  },
  "version": 3
 },
 "nbformat": 4,
 "nbformat_minor": 2
}
